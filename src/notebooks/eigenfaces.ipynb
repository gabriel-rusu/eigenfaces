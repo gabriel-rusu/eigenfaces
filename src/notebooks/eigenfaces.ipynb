{
 "cells": [
  {
   "attachments": {},
   "cell_type": "markdown",
   "metadata": {},
   "source": [
    "## Eigenfaces - Face Recognition"
   ]
  },
  {
   "attachments": {},
   "cell_type": "markdown",
   "metadata": {},
   "source": [
    "#### Importing necessary libraries"
   ]
  },
  {
   "cell_type": "code",
   "execution_count": 6,
   "metadata": {
    "ExecuteTime": {
     "end_time": "2023-12-01T10:45:49.875363600Z",
     "start_time": "2023-12-01T10:45:49.852100600Z"
    }
   },
   "outputs": [],
   "source": [
    "from src.dataset.eigenfaces import EigenFaces\n",
    "from src.utils.constants import DatasetSplit, Paths\n",
    "from src.utils.covariance import compute_eigen_matrices, compute_covariance_matrices\n",
    "from src.utils.metrics import compute_accuracy"
   ]
  },
  {
   "attachments": {},
   "cell_type": "markdown",
   "metadata": {},
   "source": [
    "#### Loading and transforming the images into vectors"
   ]
  },
  {
   "cell_type": "code",
   "execution_count": 7,
   "metadata": {
    "ExecuteTime": {
     "end_time": "2023-12-01T10:45:49.941581500Z",
     "start_time": "2023-12-01T10:45:49.870276Z"
    }
   },
   "outputs": [],
   "source": [
    "train_dataset = EigenFaces(Paths.DATA_DIR, DatasetSplit.TRAIN, normalize=True)\n",
    "test_dataset = EigenFaces(Paths.DATA_DIR, DatasetSplit.TEST)"
   ]
  },
  {
   "attachments": {},
   "cell_type": "markdown",
   "metadata": {},
   "source": [
    "##### Computing the eigen vectors"
   ]
  },
  {
   "cell_type": "markdown",
   "source": [],
   "metadata": {
    "collapsed": false
   }
  },
  {
   "cell_type": "code",
   "execution_count": 8,
   "metadata": {
    "ExecuteTime": {
     "end_time": "2023-12-01T10:45:52.989005Z",
     "start_time": "2023-12-01T10:45:49.941581500Z"
    }
   },
   "outputs": [],
   "source": [
    "mean_train_faces = train_dataset.mean_faces\n",
    "train_cov_matrices = compute_covariance_matrices(train_dataset)\n",
    "train_eigen_matrices = compute_eigen_matrices(train_cov_matrices)"
   ]
  },
  {
   "attachments": {},
   "cell_type": "markdown",
   "metadata": {},
   "source": [
    "##### Computing the test dataset accuracy\n"
   ]
  },
  {
   "cell_type": "code",
   "execution_count": 9,
   "metadata": {
    "ExecuteTime": {
     "end_time": "2023-12-01T10:46:05.855131300Z",
     "start_time": "2023-12-01T10:45:52.989005Z"
    }
   },
   "outputs": [
    {
     "data": {
      "text/plain": "  0%|          | 0/5 [00:00<?, ?it/s]",
      "application/vnd.jupyter.widget-view+json": {
       "version_major": 2,
       "version_minor": 0,
       "model_id": "7b67da54e5f34590a0c8e0fd24e3da2a"
      }
     },
     "metadata": {},
     "output_type": "display_data"
    },
    {
     "name": "stdout",
     "output_type": "stream",
     "text": [
      "Correct: 143 - Wrong: 2 - Accuracy: 98.62%\n"
     ]
    }
   ],
   "source": [
    "compute_accuracy(test_dataset, train_eigen_matrices, mean_train_faces, notebook=True)"
   ]
  }
 ],
 "metadata": {
  "kernelspec": {
   "name": "python3",
   "language": "python",
   "display_name": "Python 3 (ipykernel)"
  },
  "language_info": {
   "codemirror_mode": {
    "name": "ipython",
    "version": 3
   },
   "file_extension": ".py",
   "mimetype": "text/x-python",
   "name": "python",
   "nbconvert_exporter": "python",
   "pygments_lexer": "ipython3",
   "version": "3.9.13"
  },
  "orig_nbformat": 4,
  "vscode": {
   "interpreter": {
    "hash": "ee7d7838ef53998fd22ad7449b76e48b4013ea11e59d28ee193f2cd757746339"
   }
  }
 },
 "nbformat": 4,
 "nbformat_minor": 2
}
