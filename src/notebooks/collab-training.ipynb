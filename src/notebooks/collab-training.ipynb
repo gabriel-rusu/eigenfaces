{
 "cells": [
  {
   "cell_type": "markdown",
   "source": [
    "### Training and testing on Google Collab"
   ],
   "metadata": {
    "collapsed": false
   },
   "id": "f8333119172d3956"
  },
  {
   "cell_type": "markdown",
   "source": [
    "##### Install Miniconda"
   ],
   "metadata": {
    "collapsed": false
   },
   "id": "75102d947413be72"
  },
  {
   "cell_type": "code",
   "execution_count": null,
   "id": "initial_id",
   "metadata": {
    "collapsed": true
   },
   "outputs": [],
   "source": [
    "################################################################################\n",
    "# INSTALL CONDA ON GOOGLE COLAB\n",
    "################################################################################\n",
    "! wget https://repo.anaconda.com/miniconda/Miniconda3-py311_23.10.0-1-Linux-x86_64.sh\n",
    "! chmod +x Miniconda3-py311_23.10.0-1-Linux-x86_64.sh\n",
    "! bash ./Miniconda3-py311_23.10.0-1-Linux-x86_64.sh -b -f -p /usr/local\n",
    "import sys\n",
    "sys.path.append('/usr/local/lib/python3.11/site-packages/')"
   ]
  },
  {
   "cell_type": "markdown",
   "source": [
    "##### Install the necessary packages"
   ],
   "metadata": {
    "collapsed": false
   },
   "id": "6985c3c3b4014ab3"
  },
  {
   "cell_type": "code",
   "outputs": [],
   "source": [
    "!git clone https://github.com/gabriel-rusu/eigenfaces.git\n",
    "!pip3 install -r ./eigenfaces/requirements.txt"
   ],
   "metadata": {
    "collapsed": false
   },
   "id": "be3a5f507611a3f8"
  },
  {
   "cell_type": "markdown",
   "source": [
    "##### Install the Repository"
   ],
   "metadata": {
    "collapsed": false
   },
   "id": "9e8d358c746f62f8"
  },
  {
   "cell_type": "code",
   "outputs": [],
   "source": [
    "%%shell\n",
    "cd eigenfaces\n",
    "# conda run python setup.py develop\n",
    "pip install -v -e ."
   ],
   "metadata": {
    "collapsed": false
   },
   "id": "5395d7b2863aa950"
  },
  {
   "cell_type": "markdown",
   "source": [
    "### Run the Training (the following cells are identical to the ones in the eigenfaces notebook from this repo)"
   ],
   "metadata": {
    "collapsed": false
   },
   "id": "4f929609a2c48767"
  },
  {
   "cell_type": "markdown",
   "source": [
    "##### Import the necessary packages"
   ],
   "metadata": {
    "collapsed": false
   },
   "id": "9e6aeb4e17243f22"
  },
  {
   "cell_type": "code",
   "outputs": [],
   "source": [
    "from src.dataset.eigenfaces import EigenFaces\n",
    "from src.utils.constants import DatasetSplit, Paths\n",
    "from src.utils.covariance import compute_eigen_matrices, compute_covariance_matrices\n",
    "from src.utils.metrics import compute_accuracy"
   ],
   "metadata": {
    "collapsed": false
   },
   "id": "a917f3852a9737d"
  },
  {
   "cell_type": "markdown",
   "source": [
    "##### Train and test dataset loading"
   ],
   "metadata": {
    "collapsed": false
   },
   "id": "31e92eeefdd44f03"
  },
  {
   "cell_type": "code",
   "outputs": [],
   "source": [
    "train_dataset = EigenFaces(Paths.DATA_DIR, DatasetSplit.TRAIN, normalize=True)\n",
    "test_dataset = EigenFaces(Paths.DATA_DIR, DatasetSplit.TEST)"
   ],
   "metadata": {
    "collapsed": false
   },
   "id": "8d0ec364e86085c0"
  },
  {
   "cell_type": "markdown",
   "source": [
    "##### Compute the eigen matrices and the mean faces"
   ],
   "metadata": {
    "collapsed": false
   },
   "id": "988bb62a22cd0d2a"
  },
  {
   "cell_type": "code",
   "outputs": [],
   "source": [
    "mean_train_faces = train_dataset.mean_faces\n",
    "train_cov_matrices = compute_covariance_matrices(train_dataset)\n",
    "train_eigen_matrices = compute_eigen_matrices(train_cov_matrices)"
   ],
   "metadata": {
    "collapsed": false
   },
   "id": "436c05ebf9485ef8"
  },
  {
   "cell_type": "markdown",
   "source": [
    "##### Compute the accuracy on the test dataset"
   ],
   "metadata": {
    "collapsed": false
   },
   "id": "9ec9ac02c4f7dabf"
  },
  {
   "cell_type": "code",
   "outputs": [],
   "source": [
    "compute_accuracy(test_dataset, train_eigen_matrices, mean_train_faces, notebook=True)"
   ],
   "metadata": {
    "collapsed": false
   },
   "id": "ae7b1475678a57c2"
  },
  {
   "cell_type": "markdown",
   "source": [],
   "metadata": {
    "collapsed": false
   },
   "id": "a0e89ffb5a741fe0"
  }
 ],
 "metadata": {
  "kernelspec": {
   "display_name": "Python 3",
   "language": "python",
   "name": "python3"
  },
  "language_info": {
   "codemirror_mode": {
    "name": "ipython",
    "version": 2
   },
   "file_extension": ".py",
   "mimetype": "text/x-python",
   "name": "python",
   "nbconvert_exporter": "python",
   "pygments_lexer": "ipython2",
   "version": "2.7.6"
  }
 },
 "nbformat": 4,
 "nbformat_minor": 5
}
