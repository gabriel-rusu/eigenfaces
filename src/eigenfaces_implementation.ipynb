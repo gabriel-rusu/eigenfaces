{
 "cells": [
  {
   "attachments": {},
   "cell_type": "markdown",
   "metadata": {},
   "source": [
    "## Eigenfaces - Face Recognition"
   ]
  },
  {
   "attachments": {},
   "cell_type": "markdown",
   "metadata": {},
   "source": [
    "#### Importing necessary libraries"
   ]
  },
  {
   "cell_type": "code",
   "execution_count": 1,
   "metadata": {},
   "outputs": [],
   "source": [
    "import os\n",
    "import numpy as np\n",
    "from PIL import Image"
   ]
  },
  {
   "attachments": {},
   "cell_type": "markdown",
   "metadata": {},
   "source": [
    "#### Loading and transforming the images into vectors"
   ]
  },
  {
   "cell_type": "code",
   "execution_count": 18,
   "metadata": {},
   "outputs": [],
   "source": [
    "def load_images(path):\n",
    "    images = {}\n",
    "    for file in filter(lambda file: not file.startswith('.'), os.listdir(path)):\n",
    "        img = Image.open(os.path.join(path, file))\n",
    "        idx = int(file.split('_')[0])\n",
    "        if not idx in images:\n",
    "            images[idx] = []\n",
    "        images[idx].append(np.asarray(img))\n",
    "\n",
    "    return images\n",
    "\n",
    "def transform_to_vec(dataset):\n",
    "    for person_face in dataset:\n",
    "        dataset[person_face] = list(map(lambda img: img.reshape(-1,1), dataset[person_face]))\n",
    "    return dataset\n",
    "\n",
    "def compute_average(dataset):\n",
    "    average_face = {}\n",
    "    for person_face in dataset:\n",
    "        person_faces = dataset[person_face]\n",
    "        average_face[person_face] = np.sum(person_faces, axis=0) / len(person_faces)\n",
    "    return average_face\n",
    "\n",
    "def normalize_dataset(dataset, mean):\n",
    "    for person_face in dataset:\n",
    "        dataset[person_face] = list(map(lambda face: face - mean[person_face],dataset[person_face]))\n",
    "    return dataset\n",
    "\n",
    "def compute_covariance_matrix(dataset):\n",
    "    cov_matrixes = {}\n",
    "    for person_face in dataset:\n",
    "        matrixes = list(map(lambda face: face * face.T, dataset[person_face]))\n",
    "        for matrix in matrixes:\n",
    "            if person_face not in cov_matrixes:\n",
    "                cov_matrixes[person_face] = matrix\n",
    "            else:\n",
    "                cov_matrixes[person_face] += matrix\n",
    "        cov_matrixes[person_face] *=  1 / len(dataset[person_face])\n",
    "    return cov_matrixes\n",
    "            "
   ]
  },
  {
   "cell_type": "code",
   "execution_count": 40,
   "metadata": {},
   "outputs": [
    {
     "name": "stdout",
     "output_type": "stream",
     "text": [
      "(1200, 1200)\n",
      "[0, 1, 2, 3, 4, 5, 6, 7, 8, 9, 10, 11, 12, 13, 14, 15, 16, 17, 18, 19, 20, 21, 22, 23, 24, 25, 26]\n",
      "(1200, 1200)\n",
      "[0, 1, 2, 3, 4, 5, 6, 7, 8, 9, 10, 11, 12, 13, 14, 15, 16, 17, 18, 19, 20, 21, 22, 23, 24, 25, 26, 27]\n",
      "(1200, 1200)\n",
      "[0, 1, 2, 3, 4, 5, 6, 7, 8, 9, 10, 11, 12, 13, 14, 15, 16, 17, 18, 19, 20, 21, 22, 23, 24, 25]\n",
      "(1200, 1200)\n",
      "[0, 1, 2, 3, 4, 5, 6, 7, 8, 9, 10, 11, 12, 13, 14, 15, 16, 17, 18, 19, 20, 21, 22, 23, 24, 25, 26, 27]\n",
      "(1200, 1200)\n",
      "[0, 1, 2, 3, 4, 5, 6, 7, 8, 9, 10, 11, 12, 13, 14, 15, 16, 17, 18, 19, 20, 21, 22, 23, 24, 25, 26]\n"
     ]
    }
   ],
   "source": [
    "DATA_PATH = '../data'\n",
    "TRAIN_DATA_PATH = os.path.join(DATA_PATH, 'train')\n",
    "TEST_DATA_PATH = os.path.join(DATA_PATH, 'test')\n",
    "\n",
    "train_data = load_images(TRAIN_DATA_PATH)\n",
    "test_data = load_images(TEST_DATA_PATH)\n",
    "\n",
    "train_data = transform_to_vec(train_data)\n",
    "test_data = transform_to_vec(test_data)\n",
    "\n",
    "mean_train_faces = compute_average(train_data)\n",
    "train_data = normalize_dataset(train_data, mean_train_faces)\n",
    "cov_matrices = compute_covariance_matrix(train_data)\n",
    "\n",
    "for matrix in cov_matrices:\n",
    "    print(cov_matrices[matrix].shape)\n",
    "    values, vects = np.linalg.eig(cov_matrices[matrix])\n",
    "    print([i for i,v in enumerate(values > 0.5) if v])\n",
    "    \n"
   ]
  },
  {
   "cell_type": "code",
   "execution_count": null,
   "metadata": {},
   "outputs": [],
   "source": []
  },
  {
   "cell_type": "code",
   "execution_count": null,
   "metadata": {},
   "outputs": [],
   "source": []
  }
 ],
 "metadata": {
  "kernelspec": {
   "display_name": "tensorflow",
   "language": "python",
   "name": "python3"
  },
  "language_info": {
   "codemirror_mode": {
    "name": "ipython",
    "version": 3
   },
   "file_extension": ".py",
   "mimetype": "text/x-python",
   "name": "python",
   "nbconvert_exporter": "python",
   "pygments_lexer": "ipython3",
   "version": "3.9.12"
  },
  "orig_nbformat": 4,
  "vscode": {
   "interpreter": {
    "hash": "ab74231bd2ec14a72702223bc996d769829c3404db18bb045fc3db2c3b54f35f"
   }
  }
 },
 "nbformat": 4,
 "nbformat_minor": 2
}
