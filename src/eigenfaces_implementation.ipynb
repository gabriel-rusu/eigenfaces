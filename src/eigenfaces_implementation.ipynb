{
 "cells": [
  {
   "attachments": {},
   "cell_type": "markdown",
   "metadata": {},
   "source": [
    "## Eigenfaces - Face Recognition"
   ]
  },
  {
   "attachments": {},
   "cell_type": "markdown",
   "metadata": {},
   "source": [
    "#### Importing necessary libraries"
   ]
  },
  {
   "cell_type": "code",
   "execution_count": 2,
   "metadata": {},
   "outputs": [],
   "source": [
    "import os\n",
    "import numpy as np\n",
    "from PIL import Image"
   ]
  },
  {
   "attachments": {},
   "cell_type": "markdown",
   "metadata": {},
   "source": [
    "#### Loading and transforming the images into vectors"
   ]
  },
  {
   "cell_type": "code",
   "execution_count": 14,
   "metadata": {},
   "outputs": [],
   "source": [
    "def load_images(path):\n",
    "    images = {}\n",
    "    for file in filter(lambda file: not file.startswith('.'), os.listdir(path)):\n",
    "        img = Image.open(os.path.join(path, file))\n",
    "        idx = int(file.split('_')[0])\n",
    "        if not idx in images:\n",
    "            images[idx] = []\n",
    "        images[idx].append(np.asarray(img))\n",
    "\n",
    "    return images\n",
    "\n",
    "def transform_to_vec(dataset):\n",
    "    for person_face in dataset:\n",
    "        dataset[person_face] = map(lambda img: img.flatten(), dataset[person_face])\n",
    "    return dataset"
   ]
  },
  {
   "cell_type": "code",
   "execution_count": 16,
   "metadata": {},
   "outputs": [
    {
     "name": "stdout",
     "output_type": "stream",
     "text": [
      "/Users/gabriel-rusu/Desktop/projects/github/eigenfaces/src\n",
      "/Users/gabriel-rusu/Desktop/projects/github/eigenfaces/src\n"
     ]
    }
   ],
   "source": [
    "DATA_PATH = '../data'\n",
    "TRAIN_DATA_PATH = os.path.join(DATA_PATH, 'train')\n",
    "TEST_DATA_PATH = os.path.join(DATA_PATH, 'test')\n",
    "\n",
    "train_data = load_images(TRAIN_DATA_PATH)\n",
    "test_data = load_images(TEST_DATA_PATH)\n",
    "\n",
    "train_data = transform_to_vec(train_data)\n",
    "test_data = transform_to_vec(test_data)\n"
   ]
  },
  {
   "cell_type": "code",
   "execution_count": null,
   "metadata": {},
   "outputs": [],
   "source": []
  },
  {
   "cell_type": "code",
   "execution_count": null,
   "metadata": {},
   "outputs": [],
   "source": []
  }
 ],
 "metadata": {
  "kernelspec": {
   "display_name": "tensorflow",
   "language": "python",
   "name": "python3"
  },
  "language_info": {
   "codemirror_mode": {
    "name": "ipython",
    "version": 3
   },
   "file_extension": ".py",
   "mimetype": "text/x-python",
   "name": "python",
   "nbconvert_exporter": "python",
   "pygments_lexer": "ipython3",
   "version": "3.9.13 | packaged by conda-forge | (main, May 27 2022, 17:01:00) \n[Clang 13.0.1 ]"
  },
  "orig_nbformat": 4,
  "vscode": {
   "interpreter": {
    "hash": "ee7d7838ef53998fd22ad7449b76e48b4013ea11e59d28ee193f2cd757746339"
   }
  }
 },
 "nbformat": 4,
 "nbformat_minor": 2
}
